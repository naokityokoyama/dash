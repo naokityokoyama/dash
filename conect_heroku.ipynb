{
 "metadata": {
  "language_info": {
   "codemirror_mode": {
    "name": "ipython",
    "version": 3
   },
   "file_extension": ".py",
   "mimetype": "text/x-python",
   "name": "python",
   "nbconvert_exporter": "python",
   "pygments_lexer": "ipython3",
   "version": "3.9.2"
  },
  "orig_nbformat": 2,
  "kernelspec": {
   "name": "python392jvsc74a57bd06e1a180fa9d8598563c229025e7a0ab7798b948705015f252e11b4d3e249c5d3",
   "display_name": "Python 3.9.2 64-bit"
  }
 },
 "nbformat": 4,
 "nbformat_minor": 2,
 "cells": [
  {
   "cell_type": "code",
   "execution_count": 306,
   "metadata": {},
   "outputs": [],
   "source": [
    "import os\n",
    "import psycopg2\n",
    "from dataset.dataset import Dataset\n"
   ]
  },
  {
   "cell_type": "code",
   "execution_count": 307,
   "metadata": {},
   "outputs": [
    {
     "output_type": "execute_result",
     "data": {
      "text/plain": [
       "       zona  precos  quartos areas\n",
       "0     norte  1310.0      3.0    97\n",
       "1     norte  1600.0      2.0    67\n",
       "2     norte  1800.0      2.0    45\n",
       "3     norte  2700.0      2.0    82\n",
       "4     norte  2200.0      3.0    85\n",
       "...     ...     ...      ...   ...\n",
       "1143  oeste  1000.0      1.0    42\n",
       "1146  oeste  7500.0      1.0   108\n",
       "1148  oeste  7500.0      4.0   145\n",
       "1150  oeste  1500.0      2.0    89\n",
       "1151  oeste  7300.0      3.0   130\n",
       "\n",
       "[1120 rows x 4 columns]"
      ],
      "text/html": "<div>\n<style scoped>\n    .dataframe tbody tr th:only-of-type {\n        vertical-align: middle;\n    }\n\n    .dataframe tbody tr th {\n        vertical-align: top;\n    }\n\n    .dataframe thead th {\n        text-align: right;\n    }\n</style>\n<table border=\"1\" class=\"dataframe\">\n  <thead>\n    <tr style=\"text-align: right;\">\n      <th></th>\n      <th>zona</th>\n      <th>precos</th>\n      <th>quartos</th>\n      <th>areas</th>\n    </tr>\n  </thead>\n  <tbody>\n    <tr>\n      <th>0</th>\n      <td>norte</td>\n      <td>1310.0</td>\n      <td>3.0</td>\n      <td>97</td>\n    </tr>\n    <tr>\n      <th>1</th>\n      <td>norte</td>\n      <td>1600.0</td>\n      <td>2.0</td>\n      <td>67</td>\n    </tr>\n    <tr>\n      <th>2</th>\n      <td>norte</td>\n      <td>1800.0</td>\n      <td>2.0</td>\n      <td>45</td>\n    </tr>\n    <tr>\n      <th>3</th>\n      <td>norte</td>\n      <td>2700.0</td>\n      <td>2.0</td>\n      <td>82</td>\n    </tr>\n    <tr>\n      <th>4</th>\n      <td>norte</td>\n      <td>2200.0</td>\n      <td>3.0</td>\n      <td>85</td>\n    </tr>\n    <tr>\n      <th>...</th>\n      <td>...</td>\n      <td>...</td>\n      <td>...</td>\n      <td>...</td>\n    </tr>\n    <tr>\n      <th>1143</th>\n      <td>oeste</td>\n      <td>1000.0</td>\n      <td>1.0</td>\n      <td>42</td>\n    </tr>\n    <tr>\n      <th>1146</th>\n      <td>oeste</td>\n      <td>7500.0</td>\n      <td>1.0</td>\n      <td>108</td>\n    </tr>\n    <tr>\n      <th>1148</th>\n      <td>oeste</td>\n      <td>7500.0</td>\n      <td>4.0</td>\n      <td>145</td>\n    </tr>\n    <tr>\n      <th>1150</th>\n      <td>oeste</td>\n      <td>1500.0</td>\n      <td>2.0</td>\n      <td>89</td>\n    </tr>\n    <tr>\n      <th>1151</th>\n      <td>oeste</td>\n      <td>7300.0</td>\n      <td>3.0</td>\n      <td>130</td>\n    </tr>\n  </tbody>\n</table>\n<p>1120 rows × 4 columns</p>\n</div>"
     },
     "metadata": {},
     "execution_count": 307
    }
   ],
   "source": [
    "Dataset().df"
   ]
  },
  {
   "cell_type": "code",
   "execution_count": null,
   "metadata": {},
   "outputs": [],
   "source": [
    "#INSERT\n",
    "try:\n",
    "    engine = psycopg2.connect(\n",
    "            database=dbname,\n",
    "            user=login,\n",
    "            password=password,\n",
    "            host=host,\n",
    "            port='5432')\n",
    "    cur = engine.cursor()\n",
    "        \n",
    "        # Query Insert table\n",
    "    for linha in df.values:\n",
    "        insert_query =  f\"INSERT INTO DASH values {str(linha[0]), linha[1], linha[2], linha[3]}\"\n",
    "        cur.execute(insert_query)\n",
    "        engine.commit()\n",
    "            \n",
    "except (Exception, psycopg2.Error) as error:\n",
    "    print(\"Error while connecting to PostgreSQL\", error)\n",
    "finally:\n",
    "    if engine:\n",
    "        cur.close()\n",
    "        engine.close()\n",
    "        print(\"PostgreSQL connection is closed\") "
   ]
  },
  {
   "cell_type": "code",
   "execution_count": 287,
   "metadata": {},
   "outputs": [
    {
     "output_type": "stream",
     "name": "stdout",
     "text": [
      "Query Success\nPostgreSQL connection is closed\n"
     ]
    }
   ],
   "source": [
    "#select\n",
    "try:\n",
    "    connection = psycopg2.connect(user=login,\n",
    "                                  password=password,\n",
    "                                  host=host,\n",
    "                                  port=\"5432\",\n",
    "                                  database=dbname)\n",
    "    cursor = connection.cursor()\n",
    "\n",
    "    SQL_select_Query = \"select * from DASH\"\n",
    "\n",
    "    cursor.execute(SQL_select_Query)\n",
    "    print(\"Query Success\")\n",
    "    mobile_records = cursor.fetchall()\n",
    "\n",
    "except (Exception, psycopg2.Error) as error:\n",
    "    print(\"Error while fetching data from PostgreSQL\", error)\n",
    "\n",
    "finally:\n",
    "    # closing database connection.\n",
    "    if connection:\n",
    "        cursor.close()\n",
    "        connection.close()\n",
    "        print(\"PostgreSQL connection is closed\")"
   ]
  },
  {
   "cell_type": "code",
   "execution_count": null,
   "metadata": {},
   "outputs": [],
   "source": [
    "df = Dataset().df"
   ]
  },
  {
   "cell_type": "code",
   "execution_count": null,
   "metadata": {},
   "outputs": [],
   "source": [
    "df[df['precos']>9999]"
   ]
  },
  {
   "cell_type": "code",
   "execution_count": null,
   "metadata": {},
   "outputs": [],
   "source": [
    "df.shape"
   ]
  },
  {
   "cell_type": "code",
   "execution_count": null,
   "metadata": {},
   "outputs": [],
   "source": [
    "dbname = 'd7sp0joep101nd'\n",
    "host = 'ec2-34-193-112-164.compute-1.amazonaws.com'\n",
    "login = 'aqsxbhzoguvalx'\n",
    "password = '4688eacde1e0ddd3b1f66a10e6f319fc2a6388af54a3f2abd42010a7cbc71d6c'\n",
    "\n",
    "try:\n",
    "    conn = psycopg2.connect(f'dbname={dbname} user={login} host={host} password={password}')\n",
    "except:\n",
    "    print ('I am unable to connect to the database')"
   ]
  },
  {
   "cell_type": "code",
   "execution_count": null,
   "metadata": {},
   "outputs": [],
   "source": [
    "cur = conn.cursor()\n",
    "conn.commit()"
   ]
  },
  {
   "cell_type": "code",
   "execution_count": null,
   "metadata": {},
   "outputs": [],
   "source": [
    "cur.execute(\"DROP TABLE DASH\")"
   ]
  },
  {
   "cell_type": "code",
   "execution_count": null,
   "metadata": {},
   "outputs": [],
   "source": [
    "sqlcreate = \"CREATE TABLE DASH (zona varchar(255), precos varchar(100), quartos int, areas int);\""
   ]
  },
  {
   "cell_type": "code",
   "execution_count": null,
   "metadata": {},
   "outputs": [],
   "source": [
    "cur.execute(sqlcreate)\n",
    "conn.commit()"
   ]
  },
  {
   "cell_type": "code",
   "execution_count": null,
   "metadata": {},
   "outputs": [],
   "source": [
    "for row in range(1119):\n",
    "    cur.execute(f'''INSERT INTO DASH (zona,precos,quartos,areas) values (%s, %s, %s, %s);''' , (lista_zona[row],lista_precos[row], lista_quartos[row], lista_areas[row]))"
   ]
  },
  {
   "cell_type": "code",
   "execution_count": null,
   "metadata": {},
   "outputs": [],
   "source": [
    "conn.commit()"
   ]
  },
  {
   "cell_type": "code",
   "execution_count": null,
   "metadata": {},
   "outputs": [],
   "source": [
    "ac = cur.execute('SELECT * FROM DASH')"
   ]
  },
  {
   "cell_type": "code",
   "execution_count": null,
   "metadata": {},
   "outputs": [],
   "source": [
    "lista_zona = df['zona'].values\n",
    "lista_precos = df['precos'].values\n",
    "lista_quartos = df['quartos'].values\n",
    "lista_areas = df['areas'].values"
   ]
  },
  {
   "cell_type": "code",
   "execution_count": null,
   "metadata": {},
   "outputs": [],
   "source": [
    "lista_precos"
   ]
  },
  {
   "cell_type": "code",
   "execution_count": null,
   "metadata": {},
   "outputs": [],
   "source": [
    "try:\n",
    "    connection = psycopg2.connect(user=login,\n",
    "                                  password=password,\n",
    "                                  host=host,\n",
    "                                  port=\"5432\",\n",
    "                                  database=dbname)\n",
    "    cursor = connection.cursor()\n",
    "\n",
    "    sql_insert_query = \"\"\" INSERT INTO DASH (zona,precos,quartos,areas) VALUES (%s,%s,%s,%s)\"\"\"\n",
    "    record_to_insert = (lista_zona, lista_precos, lista_quartos, lista_areas)\n",
    "    cursor.executemany(sql_insert_query, record_to_insert)\n",
    "\n",
    "    connection.commit()\n",
    "    count = cursor.rowcount\n",
    "    print(count, \"Record inserted successfully into dash table\")\n",
    "\n",
    "except (Exception, psycopg2.Error) as error:\n",
    "    print(\"Failed to insert record into DASH table\", error)\n",
    "\n",
    "finally:\n",
    "    # closing database connection.\n",
    "    if connection:\n",
    "        cursor.close()\n",
    "        connection.close()\n",
    "        print(\"PostgreSQL connection is closed\")"
   ]
  },
  {
   "cell_type": "code",
   "execution_count": null,
   "metadata": {},
   "outputs": [],
   "source": [
    "try:\n",
    "    connection = psycopg2.connect(user=login,\n",
    "                                  password=password,\n",
    "                                  host=host,\n",
    "                                  port=\"5432\",\n",
    "                                  database=dbname)\n",
    "    cursor = connection.cursor()\n",
    "\n",
    "    sql_insert_query = \"\"\" INSERT INTO DASH VALUES (%s,%s,%s,%s)\"\"\"\n",
    "    record_to_insert = (lista_zona, lista_precos, lista_quartos, lista_areas)\n",
    "    cursor.executemany(sql_insert_query, record_to_insert)\n",
    "\n",
    "    connection.commit()\n",
    "    count = cursor.rowcount\n",
    "    print(count, \"Record inserted successfully into dash table\")\n",
    "\n",
    "except (Exception, psycopg2.Error) as error:\n",
    "    print(\"Failed to insert record into DASH table\", error)\n",
    "\n",
    "finally:\n",
    "    # closing database connection.\n",
    "    if connection:\n",
    "        cursor.close()\n",
    "        connection.close()\n",
    "        print(\"PostgreSQL connection is closed\")"
   ]
  },
  {
   "cell_type": "code",
   "execution_count": 312,
   "metadata": {},
   "outputs": [
    {
     "output_type": "error",
     "ename": "AttributeError",
     "evalue": "'Dataset' object has no attribute 'query'",
     "traceback": [
      "\u001b[1;31m---------------------------------------------------------------------------\u001b[0m",
      "\u001b[1;31mAttributeError\u001b[0m                            Traceback (most recent call last)",
      "\u001b[1;32m<ipython-input-312-3d534f2d0366>\u001b[0m in \u001b[0;36m<module>\u001b[1;34m\u001b[0m\n\u001b[1;32m----> 1\u001b[1;33m \u001b[0mDataset\u001b[0m\u001b[1;33m(\u001b[0m\u001b[1;33m)\u001b[0m\u001b[1;33m.\u001b[0m\u001b[0mquery\u001b[0m\u001b[1;33m(\u001b[0m\u001b[1;33m)\u001b[0m\u001b[1;33m\u001b[0m\u001b[1;33m\u001b[0m\u001b[0m\n\u001b[0m",
      "\u001b[1;31mAttributeError\u001b[0m: 'Dataset' object has no attribute 'query'"
     ]
    }
   ],
   "source": [
    "Dataset().query()"
   ]
  },
  {
   "cell_type": "code",
   "execution_count": null,
   "metadata": {},
   "outputs": [],
   "source": []
  },
  {
   "cell_type": "code",
   "execution_count": null,
   "metadata": {},
   "outputs": [],
   "source": []
  }
 ]
}